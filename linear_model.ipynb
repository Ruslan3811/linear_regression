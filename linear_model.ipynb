{
 "cells": [
  {
   "cell_type": "code",
   "execution_count": 25,
   "id": "696e3c4a",
   "metadata": {},
   "outputs": [],
   "source": [
    "import pandas as pd\n",
    "import numpy as np\n",
    "import matplotlib.pyplot as plt\n",
    "import math\n",
    "from sklearn.metrics import f1_score\n",
    "\n",
    "learning_rate = 0.001\n",
    "\n",
    "def create_linear_model():\n",
    "    def get_data():\n",
    "        df = pd.read_csv('data.csv', sep = ',')\n",
    "        np_arr = df.values\n",
    "        X = np_arr[:, [0]]\n",
    "        y = np_arr[:, [1]]\n",
    "        return X, y    \n",
    "\n",
    "    def normalize_data(X, y):\n",
    "        X_tmp = X\n",
    "        y_tmp = y\n",
    "\n",
    "        X = (X - np.min(X)) / (np.max(X) - np.min(X))\n",
    "        y = (y - np.min(y)) / (np.max(y) - np.min(y))\n",
    "        return X_tmp, y_tmp, X, y\n",
    "\n",
    "    def init_weights():\n",
    "        tmp_tetha0 = np.array([1 for x in range (24)])\n",
    "        tmp_tetha0 = tmp_tetha0.reshape(-1, 1)\n",
    "        tmp_tetha1 = np.zeros((len(X), 1))\n",
    "        return tmp_tetha0, tmp_tetha1\n",
    "\n",
    "    def own_linear_regression(tmp_tetha0, tmp_tetha1, X, y, learning_rate, get_data):\n",
    "        tetha0, tetha1 = tmp_tetha0, tmp_tetha1\n",
    "        epochs = 0\n",
    "        tmp_mae = np.sum(X * tmp_tetha1 + tmp_tetha0 - y)\n",
    "        R = None\n",
    "        while (epochs < 100000):\n",
    "            mae = np.sum(X * tmp_tetha1 + tmp_tetha0 - y)\n",
    "            if (mae < tmp_mae):\n",
    "                tetha0, tetha1 = tmp_tetha0, tmp_tetha1\n",
    "                tmp_mae = mae\n",
    "            tmp_tetha0 = tmp_tetha0 - learning_rate * 2 * (np.sum(mae) / 24)  \n",
    "            tmp_tetha1 = tmp_tetha1 - learning_rate * 2 *  (np.sum(X * mae) / 24)\n",
    "            epochs += 1\n",
    "        return tetha0, tetha1\n",
    "\n",
    "    def get_norm_data_for_linear_regression(tetha0, tetha1):\n",
    "        x = np.array([x for x in range(0, 2)])\n",
    "        d = np.array([x*tetha1[0][0] + tetha0[0] for x in range(0, 2)])\n",
    "        return x, d\n",
    "\n",
    "    def denorm(X, y, X_tmp, y_tmp, km):\n",
    "        km = (km - np.min(X_tmp)) / (np.max(X_tmp) - np.min(X_tmp))\n",
    "\n",
    "        x = np.array([x for x in range(0, 2)])\n",
    "        d = np.array([x*tetha1[0] + tetha0[0] for x in range(0, 2)])\n",
    "        plt.scatter(X, y, color=\"black\")\n",
    "        plt.scatter(np.array([km]), np.array([km * tetha1[0][0] + tetha0[0]]), color=\"red\")\n",
    "        plt.plot(x, d)\n",
    "\n",
    "        x_min = np.min(X_tmp)\n",
    "        x_max = np.max(X_tmp)\n",
    "        y_min = np.min(y_tmp)\n",
    "        y_max = np.max(y_tmp)\n",
    "\n",
    "        cnt = 0\n",
    "        x = np.array([])\n",
    "        y = np.array([])\n",
    "        while (cnt < 1):\n",
    "            x = np.append(x, cnt)\n",
    "            y = np.append(y, cnt*tetha1[0] + tetha0[0])\n",
    "            cnt += 0.02\n",
    "\n",
    "        denorm_x_regr = x * (x_max - x_min) + x_min\n",
    "        denorm_y_regr = y * (y_max - y_min) + y_min\n",
    "        return denorm_x_regr, denorm_y_regr, x_min, x_max, y_min, y_max, km        \n",
    "    \n",
    "    def calculate_precision(y, X, tmp_tetha1, tmp_tetha0):\n",
    "        u = ((y - X * tmp_tetha1 + tmp_tetha0)**2).sum()\n",
    "        v = ((y - y.mean())**2).sum()\n",
    "        R = 1 - u/v\n",
    "        return R\n",
    "    \n",
    "    X, y = get_data()\n",
    "    X_tmp, y_tmp, X, y = normalize_data(X, y)\n",
    "    tmp_tetha0, tmp_tetha1 = init_weights()\n",
    "    tetha0, tetha1 = own_linear_regression(tmp_tetha0, tmp_tetha1, X, y, learning_rate, get_data)\n",
    "    R = calculate_precision(y, X, tetha1, tetha0)\n",
    "    x, d = get_norm_data_for_linear_regression(tetha0, tetha1)\n",
    "    km = None\n",
    "    while(type(km) != int or (type(km) == int and km < 0)):\n",
    "        try:\n",
    "            km = int(input(\"Введите пробег вашего автомобиля: \"))\n",
    "        except ValueError as e:\n",
    "            print(e.__str__())\n",
    "        if (type(km) != int):\n",
    "            print(\"Введите число!\\n\")\n",
    "        elif (type(km) == int and km < 0):\n",
    "            print(\"Введите положительное целое число!\\n\")\n",
    "    denorm_x_regr, denorm_y_regr, x_min, x_max, y_min, y_max, km = denorm(X, y, X_tmp, y_tmp, km)\n",
    "    return denorm_x_regr, denorm_y_regr, x_min, x_max, y_min, y_max, km, get_data, tetha0, tetha1, R"
   ]
  },
  {
   "cell_type": "markdown",
   "id": "6f5710da",
   "metadata": {},
   "source": [
    "tetha0 = np.zeros(24)\n",
    "tetha1 = np.zeros(24)\n",
    "X, y = get_data()\n",
    "X_tmp, Y_tmp, X, y = normalize_data(X, y)\n",
    "tetha0, tetha1 = own_linear_regression(tmp_tetha0, tmp_tetha1, X, y, learning_rate)\n",
    "plt.scatter(X, y, color=\"black\")\n",
    "x, d = get_norm_data_for_linear_regression(tetha0, tetha1)\n",
    "plt.plot(x, d)"
   ]
  },
  {
   "cell_type": "code",
   "execution_count": 26,
   "id": "d8b74bf6",
   "metadata": {},
   "outputs": [],
   "source": [
    "def predict(denorm_x_regr, denorm_y_regr, x_min, x_max, y_min, y_max, km, get_data, tetha0, tetha1):\n",
    "    \n",
    "    X, y = get_data()\n",
    "    \n",
    "    plt.scatter(X, y, color=\"black\")\n",
    "    plt.scatter(denorm_x_regr, denorm_y_regr, color=\"green\")\n",
    "    price = km * tetha1[0] + tetha0[0]\n",
    "    denorm_km = km * (x_max - x_min) + x_min\n",
    "    denorm_price = price * (y_max - y_min) + y_min\n",
    "    plt.scatter(denorm_km, denorm_price, color=\"blue\")\n",
    "    \n",
    "    if (denorm_price < 0):\n",
    "        denorm_price = 0\n",
    "    elif (denorm_price - int(denorm_price) >= 0.5):\n",
    "        denorm_price = math.ceil(denorm_price)\n",
    "    else:\n",
    "        denorm_price = math.floor(denorm_price)\n",
    "    \n",
    "    if (denorm_km - int(denorm_km) >= 0.5):\n",
    "        denorm_km = math.ceil(denorm_km)\n",
    "    else:\n",
    "        denorm_km = math.floor(denorm_km)\n",
    "    \n",
    "    \n",
    "    print(f\"Учитывая пробег автомобиля - {denorm_km} км, его стоимость составляет {denorm_price} долларов\")"
   ]
  },
  {
   "cell_type": "code",
   "execution_count": 27,
   "id": "47887fc7",
   "metadata": {},
   "outputs": [
    {
     "data": {
      "image/png": "[encoded data removed]",
      "text/plain": [
       "<Figure size 432x288 with 1 Axes>"
      ]
     },
     "metadata": {
      "needs_background": "light"
     },
     "output_type": "display_data"
    }
   ],
   "source": [
    "denorm_x_regr, denorm_y_regr, x_min, x_max, y_min, y_max, km, get_data, tetha0, tetha1, R = create_linear_model()"
   ]
  },
  {
   "cell_type": "code",
   "execution_count": 28,
   "id": "581c9aba",
   "metadata": {},
   "outputs": [
    {
     "name": "stdout",
     "output_type": "stream",
     "text": [
      "Учитывая пробег автомобиля - 240000 км, его стоимость составляет 3698 долларов\n",
      "Precision is -40.82810476803418\n"
     ]
    },
    {
     "data": {
      "image/png": "[encoded data removed]",
      "text/plain": [
       "<Figure size 432x288 with 1 Axes>"
      ]
     },
     "metadata": {
      "needs_background": "light"
     },
     "output_type": "display_data"
    }
   ],
   "source": [
    "predict(denorm_x_regr, denorm_y_regr, x_min, x_max, y_min, y_max, km, get_data, tetha0, tetha1)\n",
    "print(f\"Precision is {R}\")"
   ]
  },
  {
   "cell_type": "code",
   "execution_count": null,
   "id": "c9028a5c",
   "metadata": {},
   "outputs": [],
   "source": []
  }
 ],
 "metadata": {
  "kernelspec": {
   "display_name": "Python 3 (ipykernel)",
   "language": "python",
   "name": "python3"
  },
  "language_info": {
   "codemirror_mode": {
    "name": "ipython",
    "version": 3
   },
   "file_extension": ".py",
   "mimetype": "text/x-python",
   "name": "python",
   "nbconvert_exporter": "python",
   "pygments_lexer": "ipython3",
   "version": "3.9.9"
  }
 },
 "nbformat": 4,
 "nbformat_minor": 5
}
